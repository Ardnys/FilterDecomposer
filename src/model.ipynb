{
 "cells": [
  {
   "cell_type": "markdown",
   "id": "d054a815",
   "metadata": {},
   "source": [
    "## Filter Decomposition - Multi Output Regression Approach"
   ]
  },
  {
   "cell_type": "markdown",
   "id": "afa95280",
   "metadata": {},
   "source": [
    "### Importing Libraries"
   ]
  },
  {
   "cell_type": "code",
   "execution_count": 1,
   "id": "b3a7bc3c",
   "metadata": {},
   "outputs": [],
   "source": [
    "import torch\n",
    "import torch.nn as nn\n",
    "import torch.optim as optim\n",
    "import torchvision.transforms as transforms\n",
    "from torch.utils.data import Dataset, DataLoader, random_split\n",
    "from torchvision.models import efficientnet_b2, EfficientNet_B2_Weights\n",
    "from sklearn.metrics import mean_squared_error, mean_absolute_error, r2_score\n",
    "\n",
    "import os\n",
    "import pandas as pd\n",
    "import numpy as np\n",
    "import matplotlib.pyplot as plt\n",
    "from tqdm import tqdm\n",
    "from PIL import Image\n",
    "from fimage import FImage\n",
    "from fimage.filters import Contrast, Brightness, Saturation, Hue, Exposure"
   ]
  },
  {
   "cell_type": "markdown",
   "id": "2102704b",
   "metadata": {},
   "source": [
    "### Loading Dataset"
   ]
  },
  {
   "cell_type": "code",
   "execution_count": 15,
   "id": "38ffe0bc",
   "metadata": {},
   "outputs": [],
   "source": [
    "IMAGE_DIR = '../results/images'\n",
    "METADATA_PATH = '../results/metadata.csv'\n",
    "BATCH_SIZE = 32\n",
    "NUM_FILTERS = 5  # Contrast, Brightness, Saturation, Hue, Exposure\n",
    "IMG_SIZE = (260, 260)"
   ]
  },
  {
   "cell_type": "code",
   "execution_count": 16,
   "id": "3fa35fb0",
   "metadata": {},
   "outputs": [
    {
     "data": {
      "text/plain": [
       "device(type='cuda')"
      ]
     },
     "execution_count": 16,
     "metadata": {},
     "output_type": "execute_result"
    }
   ],
   "source": [
    "device = torch.device('cuda' if torch.cuda.is_available() else 'cpu')\n",
    "device"
   ]
  },
  {
   "cell_type": "code",
   "execution_count": 18,
   "id": "6dbd4600",
   "metadata": {},
   "outputs": [],
   "source": [
    "class FilterDataset(Dataset):\n",
    "    def __init__(self, csv_path, image_dir, transform=None, normalize_intensities=True):\n",
    "        self.df = pd.read_csv(csv_path)\n",
    "        self.image_dir = image_dir\n",
    "        self.transform = transform\n",
    "        self.filter_cols = ['Contrast', 'Brightness', 'Saturation', 'Hue', 'Exposure']  \n",
    "        self.normalize_intensities = normalize_intensities\n",
    "        self.max_value = 85.0  \n",
    "    \n",
    "    def __len__(self):\n",
    "        return len(self.df)\n",
    "    \n",
    "    def __getitem__(self, idx):\n",
    "        row = self.df.iloc[idx]\n",
    "        image = Image.open(os.path.join(self.image_dir, row['Id'])).convert(\"RGB\")\n",
    "        \n",
    "        intensities = torch.tensor(row[self.filter_cols].values.astype(np.float32))\n",
    "        \n",
    "        if self.normalize_intensities:\n",
    "            intensities = intensities / self.max_value\n",
    "        \n",
    "        if self.transform:\n",
    "            image = self.transform(image)\n",
    "        \n",
    "        return image, intensities"
   ]
  },
  {
   "cell_type": "code",
   "execution_count": 19,
   "id": "b15e0e2d",
   "metadata": {},
   "outputs": [],
   "source": [
    "transform = transforms.Compose([\n",
    "    transforms.Resize(IMG_SIZE),\n",
    "    transforms.ToTensor(),\n",
    "    transforms.Normalize(mean=[0.485, 0.456, 0.406], std=[0.229, 0.224, 0.225])\n",
    "])\n",
    "\n",
    "dataset = FilterDataset(METADATA_PATH, IMAGE_DIR, transform=transform, normalize_intensities=True)\n",
    "train_size = int(0.8 * len(dataset))\n",
    "test_size = len(dataset) - train_size\n",
    "train_set, test_set = random_split(dataset, [train_size, test_size])\n",
    "\n",
    "train_loader = DataLoader(train_set, batch_size=BATCH_SIZE, shuffle=True)\n",
    "test_loader = DataLoader(test_set, batch_size=BATCH_SIZE)\n"
   ]
  },
  {
   "cell_type": "markdown",
   "id": "8fab25ba",
   "metadata": {},
   "source": [
    "### Model Architecture"
   ]
  },
  {
   "cell_type": "code",
   "execution_count": 32,
   "id": "7a134ae2",
   "metadata": {},
   "outputs": [],
   "source": [
    "class MultiOutputEfficientNet(nn.Module):\n",
    "    def __init__(self, num_filters=NUM_FILTERS):\n",
    "        super(MultiOutputEfficientNet, self).__init__()\n",
    "        self.base_model = efficientnet_b2(weights=EfficientNet_B2_Weights.DEFAULT)\n",
    "\n",
    "        in_features = self.base_model.classifier[1].in_features\n",
    "        self.base_model.classifier = nn.Sequential(\n",
    "            nn.Dropout(0.3),\n",
    "            nn.Linear(in_features, in_features),\n",
    "            nn.Dropout(0.2),\n",
    "            nn.Linear(in_features, num_filters)\n",
    "        )\n",
    "    \n",
    "    def forward(self, x):\n",
    "        return self.base_model(x)\n",
    "      \n",
    "\n",
    "model = MultiOutputEfficientNet()\n",
    "model = model.to(device)\n"
   ]
  },
  {
   "cell_type": "code",
   "execution_count": 34,
   "id": "c477be05",
   "metadata": {},
   "outputs": [],
   "source": [
    "criterion = nn.MSELoss()\n",
    "optimizer = optim.Adam(model.parameters(), lr=0.001)"
   ]
  },
  {
   "cell_type": "markdown",
   "id": "a5995460",
   "metadata": {},
   "source": [
    "### Training "
   ]
  },
  {
   "cell_type": "code",
   "execution_count": 23,
   "id": "693847af",
   "metadata": {},
   "outputs": [],
   "source": [
    "def train_step(model, dataloader, criterion, optimizer):\n",
    "    model.train()\n",
    "    train_loss = 0\n",
    "\n",
    "    for inputs, labels in dataloader:\n",
    "        inputs, labels = inputs.to(device), labels.to(device)\n",
    "\n",
    "        y_pred = model(inputs)\n",
    "\n",
    "        loss = criterion(y_pred, labels)\n",
    "\n",
    "        train_loss += loss\n",
    "\n",
    "        optimizer.zero_grad()\n",
    "\n",
    "        loss.backward()\n",
    "        optimizer.step()\n",
    "\n",
    "    return float(train_loss)"
   ]
  },
  {
   "cell_type": "code",
   "execution_count": 24,
   "id": "daebc4b0",
   "metadata": {},
   "outputs": [],
   "source": [
    "def val_step(model, dataloader, criterion):\n",
    "    model.eval()\n",
    "    mses = 0\n",
    "\n",
    "    with torch.inference_mode():\n",
    "        for inputs, labels in dataloader:\n",
    "            inputs, labels = inputs.to(device), labels.to(device)\n",
    "            y_pred = model(inputs)\n",
    "            mse = criterion(y_pred, labels)\n",
    "            mses += mse\n",
    "            # mses.append(float(mse))\n",
    "\n",
    "    return float(mses)"
   ]
  },
  {
   "cell_type": "code",
   "execution_count": 25,
   "id": "9891d9ef",
   "metadata": {},
   "outputs": [],
   "source": [
    "def evaluate(model, dataloader):\n",
    "    model.eval()\n",
    "    all_preds, all_targets = [], [] \n",
    "\n",
    "    with torch.inference_mode():\n",
    "        for inputs, labels in dataloader:\n",
    "            inputs, labels = inputs.to(device), labels.to(device)\n",
    "            y_pred = model(inputs)\n",
    "\n",
    "            all_preds.append(y_pred.cpu())\n",
    "            all_targets.append(labels.cpu())\n",
    "\n",
    "\n",
    "    all_preds = torch.cat(all_preds, dim=0).numpy()\n",
    "    all_targets = torch.cat(all_targets, dim=0).numpy()\n",
    "\n",
    "    # 1) MSE per filter (vector of length 5) and overall\n",
    "    mse_per_filter = mean_squared_error(all_targets, all_preds, multioutput='raw_values')\n",
    "    mse_overall    = mean_squared_error(all_targets, all_preds, multioutput='uniform_average')\n",
    "\n",
    "    # 2) RMSE (take sqrt of each MSE)\n",
    "    rmse_per_filter = mse_per_filter ** 0.5\n",
    "    rmse_overall    = mse_overall ** 0.5\n",
    "\n",
    "    # 3) MAE per filter and overall\n",
    "    mae_per_filter = mean_absolute_error(all_targets, all_preds, multioutput='raw_values')\n",
    "    mae_overall    = mean_absolute_error(all_targets, all_preds, multioutput='uniform_average')\n",
    "\n",
    "    # 4) R^2 per filter and overall (can also do multioutput='variance_weighted')\n",
    "    r2_per_filter = []\n",
    "\n",
    "    for i in range(all_targets.shape[1]):\n",
    "        r2_per_filter.append(r2_score(all_targets[:, i], all_preds[:, i]))\n",
    "\n",
    "    r2_overall = r2_score(all_targets, all_preds, multioutput='uniform_average')\n",
    "\n",
    "    metrics = {\n",
    "        \"mse_per_filter\":    mse_per_filter.tolist(),\n",
    "        \"mse_overall\":       float(mse_overall),\n",
    "        \"rmse_per_filter\":   rmse_per_filter.tolist(),\n",
    "        \"rmse_overall\":      float(rmse_overall),\n",
    "        \"mae_per_filter\":    mae_per_filter.tolist(),\n",
    "        \"mae_overall\":       float(mae_overall),\n",
    "        \"r2_per_filter\":     r2_per_filter,\n",
    "        \"r2_overall\":        float(r2_overall),\n",
    "    }\n",
    "    return metrics\n"
   ]
  },
  {
   "cell_type": "code",
   "execution_count": 26,
   "id": "58b338a4",
   "metadata": {},
   "outputs": [],
   "source": [
    "def train(model, dataloaders, criterion, optimizer, epochs=10):\n",
    "    res = {\"train_mse\": [], \"val_mse\": []}\n",
    "\n",
    "    bar = tqdm(range(epochs), desc=\"Training\", unit=\"epoch\")\n",
    "\n",
    "    for epoch in bar:\n",
    "        # if epoch >= 5:\n",
    "        #     for params in model.base_model.parameters():\n",
    "        #         params.requires_grad = True \n",
    "\n",
    "        train_mse = train_step(model, dataloaders[\"train\"], criterion, optimizer)\n",
    "        val_mse = val_step(model, dataloaders[\"val\"], criterion)\n",
    "\n",
    "        bar.set_description(f\"Epoch {epoch+1}/{epochs}\")\n",
    "        bar.set_postfix({\n",
    "            \"train_mse\": f\"{train_mse:.4f}\",\n",
    "            \"val_mse\": f\"{val_mse:.4f}\"\n",
    "        })\n",
    "\n",
    "        res[\"train_mse\"].append(train_mse)\n",
    "        res[\"val_mse\"].append(val_mse)\n",
    "\n",
    "    return res"
   ]
  },
  {
   "cell_type": "code",
   "execution_count": 27,
   "id": "4414d88c",
   "metadata": {},
   "outputs": [],
   "source": [
    "def plot_training_history(res):\n",
    "    epochs = range(1, len(res[\"train_mse\"]) + 1)\n",
    "    \n",
    "    plt.figure()\n",
    "    plt.plot(epochs, res[\"train_mse\"], label=\"Train MSE\", marker='o')\n",
    "    plt.plot(epochs, res[\"val_mse\"], label=\"Val MSE\", marker='o')\n",
    "    plt.xlabel(\"Epoch\")\n",
    "    plt.ylabel(\"MSE\")\n",
    "    plt.title(\"Training vs Validation MSE\")\n",
    "    plt.legend()\n",
    "    plt.grid(True)\n",
    "    plt.show()"
   ]
  },
  {
   "cell_type": "code",
   "execution_count": 35,
   "id": "ba8c5c01",
   "metadata": {},
   "outputs": [],
   "source": [
    "dataloaders = {\n",
    "    \"train\": train_loader,\n",
    "    \"val\": test_loader\n",
    "}"
   ]
  },
  {
   "cell_type": "code",
   "execution_count": 36,
   "id": "39e591c2",
   "metadata": {},
   "outputs": [
    {
     "name": "stderr",
     "output_type": "stream",
     "text": [
      "Epoch 20/20: 100%|██████████| 20/20 [04:51<00:00, 14.57s/epoch, train_mse=0.1929, val_mse=0.1813]\n"
     ]
    }
   ],
   "source": [
    "res = train(model, dataloaders, criterion, optimizer, epochs=20)"
   ]
  },
  {
   "cell_type": "code",
   "execution_count": 16,
   "id": "2cef8ef0",
   "metadata": {},
   "outputs": [
    {
     "data": {
      "image/png": "[encoded data removed]",
      "text/plain": [
       "<Figure size 640x480 with 1 Axes>"
      ]
     },
     "metadata": {},
     "output_type": "display_data"
    }
   ],
   "source": [
    "plot_training_history(res)"
   ]
  },
  {
   "cell_type": "code",
   "execution_count": 37,
   "id": "7689a8b7",
   "metadata": {},
   "outputs": [
    {
     "data": {
      "image/png": "[encoded data removed]",
      "text/plain": [
       "<Figure size 640x480 with 1 Axes>"
      ]
     },
     "metadata": {},
     "output_type": "display_data"
    }
   ],
   "source": [
    "\n",
    "plot_training_history(res)"
   ]
  },
  {
   "cell_type": "code",
   "execution_count": 38,
   "id": "219b0c8a",
   "metadata": {},
   "outputs": [
    {
     "data": {
      "text/plain": [
       "{'mse_per_filter': [0.006460366304963827,\n",
       "  0.0018258788622915745,\n",
       "  0.028772512450814247,\n",
       "  0.0006890482036396861,\n",
       "  0.0016405462520197034],\n",
       " 'mse_overall': 0.007877670228481293,\n",
       " 'rmse_per_filter': [0.08037640154361725,\n",
       "  0.04273030534386635,\n",
       "  0.16962462663650513,\n",
       "  0.026249727234244347,\n",
       "  0.04050365835428238],\n",
       " 'rmse_overall': 0.08875624050443603,\n",
       " 'mae_per_filter': [0.05649114027619362,\n",
       "  0.03237459808588028,\n",
       "  0.1285148710012436,\n",
       "  0.019622180610895157,\n",
       "  0.033658865839242935],\n",
       " 'mae_overall': 0.054132331162691116,\n",
       " 'r2_per_filter': [0.8144139647483826,\n",
       "  0.8550208210945129,\n",
       "  0.4960066080093384,\n",
       "  0.8835791945457458,\n",
       "  -0.16746914386749268],\n",
       " 'r2_overall': 0.5763092041015625}"
      ]
     },
     "execution_count": 38,
     "metadata": {},
     "output_type": "execute_result"
    }
   ],
   "source": [
    "metrics = evaluate(model, test_loader)\n",
    "metrics"
   ]
  },
  {
   "cell_type": "code",
   "execution_count": 39,
   "id": "1e6f0134",
   "metadata": {},
   "outputs": [
    {
     "name": "stdout",
     "output_type": "stream",
     "text": [
      "                Id  Contrast  Brightness  Saturation  Hue  Exposure\n",
      "0  arepas\\0001.jpg        21           2          16   18         0\n",
      "1  arepas\\0002.jpg        22           3          15   12         1\n",
      "2  arepas\\0003.jpg         0           0           0    0         8\n",
      "3  arepas\\0004.jpg        32           0           0    9         0\n",
      "4  arepas\\0005.jpg         0           0          26    0         8\n"
     ]
    }
   ],
   "source": [
    "uh = pd.read_csv(METADATA_PATH)\n",
    "print(uh.head())"
   ]
  },
  {
   "cell_type": "code",
   "execution_count": 40,
   "id": "15a0413f",
   "metadata": {},
   "outputs": [
    {
     "data": {
      "text/plain": [
       "['Contrast', 'Brightness', 'Saturation', 'Hue', 'Exposure']"
      ]
     },
     "execution_count": 40,
     "metadata": {},
     "output_type": "execute_result"
    }
   ],
   "source": [
    "filter_cols = uh.columns.to_list()[1:]\n",
    "filter_cols"
   ]
  },
  {
   "cell_type": "code",
   "execution_count": 41,
   "id": "e8c1c75d",
   "metadata": {},
   "outputs": [
    {
     "data": {
      "text/plain": [
       "[np.int64(50), np.int64(30), np.int64(60), np.int64(20), np.int64(10)]"
      ]
     },
     "execution_count": 41,
     "metadata": {},
     "output_type": "execute_result"
    }
   ],
   "source": [
    "maxes = list(map(lambda c: uh[c].max(), filter_cols))\n",
    "maxes"
   ]
  },
  {
   "cell_type": "code",
   "execution_count": 42,
   "id": "441b6b33",
   "metadata": {},
   "outputs": [],
   "source": [
    "def visualize_predictions(model, dataloader, idx):\n",
    "    model.eval()\n",
    "\n",
    "    with torch.inference_mode():\n",
    "        inputs, targets = next(iter(dataloader))\n",
    "        inputs, targets = inputs.to(device), targets.to(device)\n",
    "        y_pred = model(inputs)\n",
    "\n",
    "        first_prediction = y_pred[idx].cpu().numpy()\n",
    "        first_target = targets[idx].cpu().numpy()\n",
    "\n",
    "        for (pred, target, mx) in zip(first_prediction, first_target, maxes):\n",
    "            scaled_pred = pred * mx\n",
    "            scaled_target = target * mx\n",
    "\n",
    "            print(f\"Predicted filter: {scaled_pred:.4f}\")\n",
    "            print(f\"Actual filter: {scaled_target:.4f}\")\n",
    "            print(\"----------------------\")\n",
    "\n",
    "        # TODO then apply the predicted filters to see how it worked"
   ]
  },
  {
   "cell_type": "code",
   "execution_count": 43,
   "id": "2c3043c2",
   "metadata": {},
   "outputs": [],
   "source": [
    "def infer_image(model, img_path, max_value=85.0):\n",
    "    model.eval()\n",
    "\n",
    "    transform = transforms.Compose([\n",
    "        transforms.Resize(IMG_SIZE),\n",
    "        transforms.ToTensor(),\n",
    "        transforms.Normalize(mean=[0.485, 0.456, 0.406], \n",
    "                             std=[0.229, 0.224, 0.225])\n",
    "    ])\n",
    "\n",
    "    image = Image.open(img_path).convert(\"RGB\")\n",
    "    input_tensor = transform(image).unsqueeze(0).to(device)\n",
    "\n",
    "    with torch.inference_mode():\n",
    "        pred = model(input_tensor).squeeze(0).cpu().numpy()\n",
    "\n",
    "    scaled_pred = pred * max_value\n",
    "    filter_names = ['Contrast', 'Brightness', 'Saturation', 'Hue', 'Exposure']\n",
    "\n",
    "    print(f\"Predicted filters for {os.path.basename(img_path)}:\")\n",
    "    for name, value in zip(filter_names, scaled_pred):\n",
    "        print(f\"{name}: {value:.2f}\")\n"
   ]
  },
  {
   "cell_type": "code",
   "execution_count": null,
   "id": "0d142f3d",
   "metadata": {},
   "outputs": [],
   "source": [
    "im_path = \"../results/images\""
   ]
  },
  {
   "cell_type": "code",
   "execution_count": 46,
   "id": "25b50ba4",
   "metadata": {},
   "outputs": [
    {
     "name": "stdout",
     "output_type": "stream",
     "text": [
      "Predicted filter: 10.6758\n",
      "Actual filter: 10.0000\n",
      "----------------------\n",
      "Predicted filter: -0.6031\n",
      "Actual filter: 0.0000\n",
      "----------------------\n",
      "Predicted filter: 8.0046\n",
      "Actual filter: 0.0000\n",
      "----------------------\n",
      "Predicted filter: -0.1741\n",
      "Actual filter: 0.0000\n",
      "----------------------\n",
      "Predicted filter: 0.2741\n",
      "Actual filter: 0.0000\n",
      "----------------------\n"
     ]
    }
   ],
   "source": [
    "visualize_predictions(model, test_loader,12)"
   ]
  }
 ],
 "metadata": {
  "kernelspec": {
   "display_name": "ptvision",
   "language": "python",
   "name": "python3"
  },
  "language_info": {
   "codemirror_mode": {
    "name": "ipython",
    "version": 3
   },
   "file_extension": ".py",
   "mimetype": "text/x-python",
   "name": "python",
   "nbconvert_exporter": "python",
   "pygments_lexer": "ipython3",
   "version": "3.12.4"
  }
 },
 "nbformat": 4,
 "nbformat_minor": 5
}
